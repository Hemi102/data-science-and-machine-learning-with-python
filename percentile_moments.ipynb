{
 "cells": [
  {
   "cell_type": "code",
   "execution_count": 4,
   "id": "fbde6364-24da-4c7f-8d91-82b15b2fedc7",
   "metadata": {},
   "outputs": [
    {
     "data": {
      "image/png": "[encoded data removed]",
      "text/plain": [
       "<Figure size 640x480 with 1 Axes>"
      ]
     },
     "metadata": {},
     "output_type": "display_data"
    }
   ],
   "source": [
    "import numpy as np\n",
    "import matplotlib.pyplot as plt \n",
    "\n",
    "vals = np.random.normal(0, 0.5, 10000)\n",
    "\n",
    "plt.hist(vals, 50)\n",
    "plt.show()"
   ]
  },
  {
   "cell_type": "code",
   "execution_count": 10,
   "id": "6a3b924d-c4f8-4015-bc0a-12ec0c11091c",
   "metadata": {},
   "outputs": [
    {
     "data": {
      "text/plain": [
       "np.float64(0.0027386467594645953)"
      ]
     },
     "execution_count": 10,
     "metadata": {},
     "output_type": "execute_result"
    }
   ],
   "source": [
    "np.percentile(vals, 50)"
   ]
  },
  {
   "cell_type": "code",
   "execution_count": 6,
   "id": "c55ecd43-b74d-4a1e-b3cf-a3d10f060c79",
   "metadata": {},
   "outputs": [
    {
     "data": {
      "text/plain": [
       "np.float64(0.6277875770773019)"
      ]
     },
     "execution_count": 6,
     "metadata": {},
     "output_type": "execute_result"
    }
   ],
   "source": [
    "np.percentile(vals, 90)"
   ]
  },
  {
   "cell_type": "code",
   "execution_count": 7,
   "id": "3e9f633a-fae8-461a-b207-072b5c2e4ce0",
   "metadata": {},
   "outputs": [
    {
     "data": {
      "text/plain": [
       "np.float64(-0.41738643085816185)"
      ]
     },
     "execution_count": 7,
     "metadata": {},
     "output_type": "execute_result"
    }
   ],
   "source": [
    "np.percentile(vals, 20)"
   ]
  },
  {
   "cell_type": "code",
   "execution_count": 11,
   "id": "297fa628-b846-4b6c-b1cb-287107887700",
   "metadata": {},
   "outputs": [],
   "source": [
    "## The first moment is the mean, this data should average out above 0"
   ]
  },
  {
   "cell_type": "code",
   "execution_count": 12,
   "id": "76d08080-a241-4032-ba1a-a10c1f76c888",
   "metadata": {},
   "outputs": [
    {
     "data": {
      "text/plain": [
       "np.float64(0.0007681651798474325)"
      ]
     },
     "execution_count": 12,
     "metadata": {},
     "output_type": "execute_result"
    }
   ],
   "source": [
    "np.mean(vals)"
   ]
  },
  {
   "cell_type": "code",
   "execution_count": 13,
   "id": "4dbfbfc5-c7e7-42e5-82d3-75e550d58988",
   "metadata": {},
   "outputs": [],
   "source": [
    "## The second moment is the variance"
   ]
  },
  {
   "cell_type": "code",
   "execution_count": 15,
   "id": "7b2f657b-f2bd-4175-ba4a-88782451da7f",
   "metadata": {},
   "outputs": [
    {
     "data": {
      "text/plain": [
       "np.float64(0.24827458285553333)"
      ]
     },
     "execution_count": 15,
     "metadata": {},
     "output_type": "execute_result"
    }
   ],
   "source": [
    "np.var(vals)"
   ]
  },
  {
   "cell_type": "code",
   "execution_count": 16,
   "id": "b4d369b9-628f-46ce-bb6d-f48dd747ed86",
   "metadata": {},
   "outputs": [],
   "source": [
    "## The third moment is skew, since our data nicely centered around 0, it should be almost 0 "
   ]
  },
  {
   "cell_type": "code",
   "execution_count": 17,
   "id": "e0191f62-d0c9-4d7d-bc4b-a6b3f8604e47",
   "metadata": {},
   "outputs": [
    {
     "data": {
      "text/plain": [
       "np.float64(0.008578331042765227)"
      ]
     },
     "execution_count": 17,
     "metadata": {},
     "output_type": "execute_result"
    }
   ],
   "source": [
    "import scipy.stats as sp\n",
    "sp.skew(vals)"
   ]
  },
  {
   "cell_type": "code",
   "execution_count": 18,
   "id": "3863910e-9368-41bd-ab9c-c5d3402fb69d",
   "metadata": {},
   "outputs": [],
   "source": [
    "## The fourth moment is kurtosis, which describe the shape of the tail, for normal distribution this is 0"
   ]
  },
  {
   "cell_type": "code",
   "execution_count": 19,
   "id": "19d97b66-5344-42dc-a37d-c989383aa072",
   "metadata": {},
   "outputs": [
    {
     "data": {
      "text/plain": [
       "np.float64(0.09243709230729014)"
      ]
     },
     "execution_count": 19,
     "metadata": {},
     "output_type": "execute_result"
    }
   ],
   "source": [
    "sp.kurtosis(vals)"
   ]
  },
  {
   "cell_type": "code",
   "execution_count": null,
   "id": "3cad2d80-68ef-4084-9979-8d49e460a3be",
   "metadata": {},
   "outputs": [],
   "source": []
  }
 ],
 "metadata": {
  "kernelspec": {
   "display_name": "Python 3 (ipykernel)",
   "language": "python",
   "name": "python3"
  },
  "language_info": {
   "codemirror_mode": {
    "name": "ipython",
    "version": 3
   },
   "file_extension": ".py",
   "mimetype": "text/x-python",
   "name": "python",
   "nbconvert_exporter": "python",
   "pygments_lexer": "ipython3",
   "version": "3.13.5"
  }
 },
 "nbformat": 4,
 "nbformat_minor": 5
}
